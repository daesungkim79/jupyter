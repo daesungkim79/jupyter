{
 "cells": [
  {
   "cell_type": "code",
   "execution_count": null,
   "metadata": {},
   "outputs": [],
   "source": []
  },
  {
   "cell_type": "code",
   "execution_count": null,
   "metadata": {},
   "outputs": [],
   "source": [
    "import pandas as pd\n",
    "import openpyxl\n",
    "from tqdm import trange\n",
    "import plotly.figure_factory as ff\n",
    "import plotly\n",
    "\n",
    "def make_gantt_chart(pjt_name, build_num):\n",
    "    xlsxFile = './docs/wbsRpt_{}-{}.xlsx'.format(pjt_name, build_num)\n",
    "\n",
    "    # read all sheet name from excel\n",
    "    sheet_ls = list()\n",
    "    wb = openpyxl.load_workbook(xlsxFile)\n",
    "    for i in wb.get_sheet_names():\n",
    "        if 'db' in i:\n",
    "            sheet_ls.append(i)\n",
    "\n",
    "    # make gantt chart\n",
    "    for sheet_num in trange(len(sheet_ls)):\n",
    "        try:        \n",
    "            df = pd.read_excel(xlsxFile, sheet_name=sheet_ls[sheet_num])\n",
    "            df_gantt = df[['Title', 'Planned Start', 'Planned End', 'State']]\n",
    "            df_gantt.dropna(inplace=True)\n",
    "            df_gantt.reset_index(drop=True, inplace=True)   \n",
    "            df_gantt.rename(columns={'Title':'Task', 'Planned Start':'Start', 'Planned End':'Finish'}, inplace=True)\n",
    "            df_gantt['Start']  = pd.to_datetime(df_gantt['Start']) \n",
    "            df_gantt['Finish']= pd.to_datetime(df_gantt['Finish']) \n",
    "            fig = ff.create_gantt(df_gantt, index_col='State', show_colorbar=True, group_tasks=True, showgrid_x=True,\n",
    "                             task_names=True, bar_width=0.3, height=3000, title='Gantt Chart')\n",
    "            plotly.offline.plot(fig, filename='./docs/{}_gantt_chart.html'.format(sheet_ls[sheet_num]), auto_open=False)\n",
    "        except Exception as e:\n",
    "            print(e)\n",
    "            pass"
   ]
  },
  {
   "cell_type": "code",
   "execution_count": null,
   "metadata": {},
   "outputs": [],
   "source": [
    "pjt_name = 'SBW_CANOO_LV'\n",
    "build_num = '0'\n",
    "make_gantt_chart(pjt_name, build_num)"
   ]
  }
 ],
 "metadata": {
  "kernelspec": {
   "display_name": "Python 3",
   "language": "python",
   "name": "python3"
  },
  "language_info": {
   "codemirror_mode": {
    "name": "ipython",
    "version": 3
   },
   "file_extension": ".py",
   "mimetype": "text/x-python",
   "name": "python",
   "nbconvert_exporter": "python",
   "pygments_lexer": "ipython3",
   "version": "3.7.6"
  },
  "toc": {
   "base_numbering": 1,
   "nav_menu": {},
   "number_sections": true,
   "sideBar": true,
   "skip_h1_title": false,
   "title_cell": "Table of Contents",
   "title_sidebar": "Contents",
   "toc_cell": false,
   "toc_position": {},
   "toc_section_display": true,
   "toc_window_display": false
  }
 },
 "nbformat": 4,
 "nbformat_minor": 4
}
