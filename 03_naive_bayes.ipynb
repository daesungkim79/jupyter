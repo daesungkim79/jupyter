{
 "cells": [
  {
   "cell_type": "markdown",
   "metadata": {},
   "source": [
    "#### load data"
   ]
  },
  {
   "cell_type": "code",
   "execution_count": 17,
   "metadata": {},
   "outputs": [],
   "source": [
    "df_sfa = pd.read_csv(\"SFA_Faulty_Dataset.csv\")\n",
    "df_rwa = pd.read_csv(\"RWA_Faulty_Dataset.csv\")\n",
    "\n",
    "# drop unused features (columns)\n",
    "df_sbw = df_sfa.append(df_rwa).reset_index(drop=True)\n",
    "df_sbw.drop([\"Order\", \"swcName\", \"swcVer\", \"createdDate\"], axis=1, inplace=True)\n",
    "\n",
    "df_sbw.loc[df_sbw[\"isDefective\"] == \"N\", \"isDefective\"] = \"0\"\n",
    "df_sbw.loc[df_sbw[\"isDefective\"] == \"Y\", \"isDefective\"] = \"1\"\n",
    "\n",
    "# change type\n",
    "df_sbw[\"isDefective\"] = df_sbw[\"isDefective\"].astype(str).astype(int)\n",
    "\n",
    "\n",
    "df_sbw.tail(2)\n",
    "\n",
    "X = df_sbw.drop([\"isDefective\"], axis=1)\n",
    "y = df_sbw[\"isDefective\"]\n",
    "X_train, X_test, y_train, y_test = train_test_split(X, y, test_size=0.3, random_state=0)"
   ]
  },
  {
   "cell_type": "code",
   "execution_count": 23,
   "metadata": {},
   "outputs": [],
   "source": [
    "from sklearn.model_selection import train_test_split\n",
    "from sklearn.naive_bayes import GaussianNB\n",
    "from sklearn import metrics\n",
    "from sklearn.metrics import *"
   ]
  },
  {
   "cell_type": "code",
   "execution_count": 21,
   "metadata": {},
   "outputs": [
    {
     "data": {
      "text/plain": [
       "0.7985074626865671"
      ]
     },
     "execution_count": 21,
     "metadata": {},
     "output_type": "execute_result"
    }
   ],
   "source": [
    "NB_model = GaussianNB()\n",
    "NB_model.fit(X_train, y_train)\n",
    "\n",
    "y_pred = NB_model.predict(X_test)\n",
    "\n",
    "score = metrics.accuracy_score(y_test, y_pred) \n",
    "score"
   ]
  },
  {
   "cell_type": "code",
   "execution_count": 24,
   "metadata": {},
   "outputs": [
    {
     "name": "stdout",
     "output_type": "stream",
     "text": [
      "F1 Score : 6.9%\n",
      "Accuracy : 79.85%\n",
      "Precision : 100.0%\n",
      "Recall: 3.57%\n"
     ]
    }
   ],
   "source": [
    "dt_f1_score = round(f1_score(y_test, y_pred)*100, 2)  # 실제 값, 예측 값\n",
    "dt_accuracy_score = round(accuracy_score(y_test, y_pred) *100, 2)\n",
    "dt_precision_score = round(precision_score(y_test, y_pred)*100, 2)\n",
    "dt_recall_score = round(recall_score(y_test, y_pred)*100, 2)\n",
    "\n",
    "print(\"F1 Score : {}%\".format(dt_f1_score))\n",
    "print(\"Accuracy : {}%\".format(dt_accuracy_score))\n",
    "print(\"Precision : {}%\".format(dt_precision_score))\n",
    "print(\"Recall: {}%\".format(dt_recall_score))"
   ]
  },
  {
   "cell_type": "code",
   "execution_count": null,
   "metadata": {},
   "outputs": [],
   "source": []
  }
 ],
 "metadata": {
  "kernelspec": {
   "display_name": "Python 3",
   "language": "python",
   "name": "python3"
  },
  "language_info": {
   "codemirror_mode": {
    "name": "ipython",
    "version": 3
   },
   "file_extension": ".py",
   "mimetype": "text/x-python",
   "name": "python",
   "nbconvert_exporter": "python",
   "pygments_lexer": "ipython3",
   "version": "3.7.6"
  }
 },
 "nbformat": 4,
 "nbformat_minor": 4
}
