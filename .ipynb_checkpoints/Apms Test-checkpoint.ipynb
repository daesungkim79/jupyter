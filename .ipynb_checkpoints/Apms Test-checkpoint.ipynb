{
 "cells": [
  {
   "cell_type": "code",
   "execution_count": 8,
   "metadata": {},
   "outputs": [
    {
     "name": "stdout",
     "output_type": "stream",
     "text": [
      "IgnDiagc\n",
      "Nov 25, 2019\n"
     ]
    }
   ],
   "source": [
    "import re\n",
    "\n",
    "def re_compile(target, line):\n",
    "    m_reg = re.compile(r'(\\w+|.+):\\s(.*)')\n",
    "    m = m_reg.search(line)\n",
    "    if m:\n",
    "        if m.group(1) == target: return m.group(2)\n",
    "\n",
    "f = open('./ptcData/3106222.txt', 'r', encoding='cp949')\n",
    "lines = f.readlines()\n",
    "\n",
    "for line in lines:\n",
    "    #print(line)\n",
    "    if re_compile('Detection Method \\(How\\)', line) != None: m_data1 = re_compile('Detection Method \\(How\\)', line)\n",
    "    if re_compile('Summary', line) != None: m_data2 = re_compile('Summary', line)\n",
    "    if re_compile('Start Date', line) != None: \n",
    "        m_data3 = re_compile('Start Date', line)\n",
    "        m_data3 = m_data3.split('GMT')[0].strip()\n",
    "        if m_data3 == \"\": m_data3 = \"Not Identified\"\n",
    "    if re_compile('Detection Method (How)', line) != None: m_data4 = re_compile('Detection Method (How)', line)            \n",
    "\n",
    "#m_data1.replace(\"hours\",\"\")\n",
    "\n",
    "#print(m_data1)\n",
    "print(m_data2)\n",
    "print(m_data3)\n",
    "#print(m_data4)"
   ]
  },
  {
   "cell_type": "code",
   "execution_count": 18,
   "metadata": {},
   "outputs": [
    {
     "ename": "NameError",
     "evalue": "name 'm_data5' is not defined",
     "output_type": "error",
     "traceback": [
      "\u001b[1;31m---------------------------------------------------------------------------\u001b[0m",
      "\u001b[1;31mNameError\u001b[0m                                 Traceback (most recent call last)",
      "\u001b[1;32m<ipython-input-18-af0b6ee9fe02>\u001b[0m in \u001b[0;36m<module>\u001b[1;34m\u001b[0m\n\u001b[0;32m      1\u001b[0m \u001b[1;32mif\u001b[0m \u001b[0mre_compile\u001b[0m\u001b[1;33m(\u001b[0m\u001b[1;34m'Star'\u001b[0m\u001b[1;33m,\u001b[0m \u001b[1;34m\"Summary: regulration : test\"\u001b[0m\u001b[1;33m)\u001b[0m \u001b[1;33m!=\u001b[0m \u001b[1;32mNone\u001b[0m\u001b[1;33m:\u001b[0m \u001b[0mm_data5\u001b[0m \u001b[1;33m=\u001b[0m \u001b[0mre_compile\u001b[0m\u001b[1;33m(\u001b[0m\u001b[1;34m'Summary'\u001b[0m\u001b[1;33m,\u001b[0m \u001b[1;34m\"Summary: regulration : test\"\u001b[0m\u001b[1;33m)\u001b[0m\u001b[1;33m\u001b[0m\u001b[1;33m\u001b[0m\u001b[0m\n\u001b[1;32m----> 2\u001b[1;33m \u001b[0mprint\u001b[0m\u001b[1;33m(\u001b[0m\u001b[0mm_data5\u001b[0m\u001b[1;33m)\u001b[0m\u001b[1;33m\u001b[0m\u001b[1;33m\u001b[0m\u001b[0m\n\u001b[0m",
      "\u001b[1;31mNameError\u001b[0m: name 'm_data5' is not defined"
     ]
    }
   ],
   "source": [
    "if re_compile('Star', \"Summary: regulration : test\") != None: m_data5 = re_compile('Summary', \"Summary: regulration : test\")\n",
    "print(m_data5)"
   ]
  },
  {
   "cell_type": "code",
   "execution_count": 72,
   "metadata": {},
   "outputs": [
    {
     "name": "stdout",
     "output_type": "stream",
     "text": [
      "Work Item\n",
      "Activity\n"
     ]
    }
   ],
   "source": [
    "ls = [\"Work Item\", \"Activity\"]\n",
    "\n",
    "for i in ls:\n",
    "    print(i)"
   ]
  },
  {
   "cell_type": "code",
   "execution_count": 167,
   "metadata": {},
   "outputs": [
    {
     "name": "stdout",
     "output_type": "stream",
     "text": [
      "90 \n"
     ]
    }
   ],
   "source": [
    "test = \"90 hours\"\n",
    "test = test.replace(\"hours\", \"\")\n",
    "\n",
    "print(test)\n"
   ]
  },
  {
   "cell_type": "code",
   "execution_count": 170,
   "metadata": {},
   "outputs": [
    {
     "name": "stdout",
     "output_type": "stream",
     "text": [
      "['90', '100']\n"
     ]
    },
    {
     "data": {
      "text/plain": [
       "90"
      ]
     },
     "execution_count": 170,
     "metadata": {},
     "output_type": "execute_result"
    }
   ],
   "source": [
    "ls = ['90', '100']\n",
    "print(ls)\n",
    "\n",
    "int(ls[0])"
   ]
  },
  {
   "cell_type": "code",
   "execution_count": 7,
   "metadata": {},
   "outputs": [
    {
     "name": "stdout",
     "output_type": "stream",
     "text": [
      "True\n"
     ]
    }
   ],
   "source": [
    "data_ls = ['cannotcalculated', 'test']\n",
    "print(data_ls[0].isalpha())"
   ]
  },
  {
   "cell_type": "code",
   "execution_count": 14,
   "metadata": {},
   "outputs": [
    {
     "data": {
      "text/plain": [
       "1"
      ]
     },
     "execution_count": 14,
     "metadata": {},
     "output_type": "execute_result"
    }
   ],
   "source": [
    "all_ls = [['Work Item', 'Open'], ['Activity', 'In Progress'], ['Work Item', 'Open'], ['Work Item', 'Open']]\n",
    "all_ls_2 = ['Work Item', 'Open', 'Activity', 'In Progress', 'Work Item', 'Open', 'Work Item', 'Open']\n",
    "all_ls[0].count('Work Item')\n",
    "#all_ls_2.count('Work Item')"
   ]
  },
  {
   "cell_type": "code",
   "execution_count": 19,
   "metadata": {},
   "outputs": [],
   "source": [
    "import re\n",
    "data_ls = ['1.1','1.7', '1.2.1', '1.11.4.2']"
   ]
  },
  {
   "cell_type": "code",
   "execution_count": 20,
   "metadata": {},
   "outputs": [
    {
     "name": "stdout",
     "output_type": "stream",
     "text": [
      "1\n",
      "7\n",
      "2\n",
      "11\n"
     ]
    }
   ],
   "source": [
    "for i in data_ls:\n",
    "    m = re.search(r'(\\d+)(.)(\\d+)(.*)', i)\n",
    "    if m:\n",
    "        print(m.group(3))"
   ]
  },
  {
   "cell_type": "code",
   "execution_count": 1,
   "metadata": {},
   "outputs": [
    {
     "data": {
      "text/plain": [
       "[5, 7, 9, 11]"
      ]
     },
     "execution_count": 1,
     "metadata": {},
     "output_type": "execute_result"
    }
   ],
   "source": [
    "ls_1 = [1, 2, 3, 4]\n",
    "ls_2 = [4, 5, 6, 7]\n",
    "\n",
    "ls_3 = [x+y for x,y in zip(ls_1, ls_2)]\n",
    "ls_3"
   ]
  },
  {
   "cell_type": "code",
   "execution_count": null,
   "metadata": {},
   "outputs": [],
   "source": []
  },
  {
   "cell_type": "code",
   "execution_count": null,
   "metadata": {},
   "outputs": [],
   "source": []
  },
  {
   "cell_type": "code",
   "execution_count": null,
   "metadata": {},
   "outputs": [],
   "source": []
  },
  {
   "cell_type": "code",
   "execution_count": null,
   "metadata": {},
   "outputs": [],
   "source": []
  },
  {
   "cell_type": "code",
   "execution_count": null,
   "metadata": {},
   "outputs": [],
   "source": []
  },
  {
   "cell_type": "code",
   "execution_count": null,
   "metadata": {},
   "outputs": [],
   "source": []
  },
  {
   "cell_type": "code",
   "execution_count": null,
   "metadata": {},
   "outputs": [],
   "source": []
  },
  {
   "cell_type": "code",
   "execution_count": null,
   "metadata": {},
   "outputs": [],
   "source": []
  },
  {
   "cell_type": "code",
   "execution_count": null,
   "metadata": {},
   "outputs": [],
   "source": []
  }
 ],
 "metadata": {
  "kernelspec": {
   "display_name": "Python 3",
   "language": "python",
   "name": "python3"
  },
  "language_info": {
   "codemirror_mode": {
    "name": "ipython",
    "version": 3
   },
   "file_extension": ".py",
   "mimetype": "text/x-python",
   "name": "python",
   "nbconvert_exporter": "python",
   "pygments_lexer": "ipython3",
   "version": "3.7.6"
  },
  "toc": {
   "base_numbering": 1,
   "nav_menu": {},
   "number_sections": true,
   "sideBar": true,
   "skip_h1_title": false,
   "title_cell": "Table of Contents",
   "title_sidebar": "Contents",
   "toc_cell": false,
   "toc_position": {},
   "toc_section_display": true,
   "toc_window_display": false
  }
 },
 "nbformat": 4,
 "nbformat_minor": 4
}
