{
 "cells": [
  {
   "cell_type": "markdown",
   "metadata": {},
   "source": [
    "#### csv 저장 시 index 함께 저장할 경우에 unnamed 컬럼 삭제 시 명령\n",
    "- df = df.loc[:, ~df.columns.str.contains('^Unnamed')]"
   ]
  },
  {
   "cell_type": "markdown",
   "metadata": {},
   "source": [
    "#### 조건에 따라 모든 열값 바꾸기\n",
    "- df.loc[df[\"isDefective\"] == 1, \"isDefective\"] = \"Y\"\n",
    "\n",
    "#### row option\n",
    "- pd.set_option('display.max_row', 20)"
   ]
  },
  {
   "cell_type": "markdown",
   "metadata": {},
   "source": [
    "### 1. Load & merge data"
   ]
  },
  {
   "cell_type": "code",
   "execution_count": 6,
   "metadata": {},
   "outputs": [],
   "source": [
    "df_sfa = pd.read_csv(\"SFA_Faulty_Dataset.csv\")\n",
    "df_rwa = pd.read_csv(\"RWA_Faulty_Dataset.csv\")"
   ]
  },
  {
   "cell_type": "code",
   "execution_count": 7,
   "metadata": {
    "scrolled": false
   },
   "outputs": [],
   "source": [
    "df = df_sfa.append(df_rwa).reset_index(drop=True)\n",
    "df = df.drop(columns=[\"Order\", \"swcName\", \"swcVer\", \"createdDate\"], axis=1)"
   ]
  },
  {
   "cell_type": "code",
   "execution_count": 227,
   "metadata": {},
   "outputs": [],
   "source": [
    "df.loc[df[\"isDefective\"] == 1, \"isDefective\"] = \"Y\"\n",
    "df.loc[df[\"isDefective\"] == 0, \"isDefective\"] = \"N\""
   ]
  },
  {
   "cell_type": "code",
   "execution_count": 228,
   "metadata": {
    "scrolled": false
   },
   "outputs": [
    {
     "data": {
      "text/plain": [
       "N    360\n",
       "Y     86\n",
       "Name: isDefective, dtype: int64"
      ]
     },
     "execution_count": 228,
     "metadata": {},
     "output_type": "execute_result"
    }
   ],
   "source": [
    "# df[\"isDefective\"].value_counts()"
   ]
  },
  {
   "cell_type": "markdown",
   "metadata": {},
   "source": [
    "### 2. Save merged data"
   ]
  },
  {
   "cell_type": "code",
   "execution_count": 1,
   "metadata": {
    "scrolled": true
   },
   "outputs": [
    {
     "ename": "NameError",
     "evalue": "name 'df' is not defined",
     "output_type": "error",
     "traceback": [
      "\u001b[1;31m---------------------------------------------------------------------------\u001b[0m",
      "\u001b[1;31mNameError\u001b[0m                                 Traceback (most recent call last)",
      "\u001b[1;32m<ipython-input-1-c1b6d76eab87>\u001b[0m in \u001b[0;36m<module>\u001b[1;34m\u001b[0m\n\u001b[1;32m----> 1\u001b[1;33m \u001b[0mdf\u001b[0m\u001b[1;33m.\u001b[0m\u001b[0mto_csv\u001b[0m\u001b[1;33m(\u001b[0m\u001b[1;34m\"sbw_faulty_dataset,csv\"\u001b[0m\u001b[1;33m,\u001b[0m \u001b[0mindex\u001b[0m\u001b[1;33m=\u001b[0m\u001b[1;32mFalse\u001b[0m\u001b[1;33m)\u001b[0m\u001b[1;33m\u001b[0m\u001b[1;33m\u001b[0m\u001b[0m\n\u001b[0m",
      "\u001b[1;31mNameError\u001b[0m: name 'df' is not defined"
     ]
    }
   ],
   "source": [
    "df.to_csv(\"sbw_faulty_dataset,csv\", index=False)"
   ]
  },
  {
   "cell_type": "markdown",
   "metadata": {},
   "source": [
    "### 3. Load merged data to Data Frame"
   ]
  },
  {
   "cell_type": "code",
   "execution_count": 3,
   "metadata": {
    "scrolled": true
   },
   "outputs": [],
   "source": [
    "df = pd.read_csv(\"sbw_faulty_dataset,csv\")"
   ]
  },
  {
   "cell_type": "code",
   "execution_count": 4,
   "metadata": {
    "scrolled": true
   },
   "outputs": [
    {
     "data": {
      "text/html": [
       "<div>\n",
       "<style scoped>\n",
       "    .dataframe tbody tr th:only-of-type {\n",
       "        vertical-align: middle;\n",
       "    }\n",
       "\n",
       "    .dataframe tbody tr th {\n",
       "        vertical-align: top;\n",
       "    }\n",
       "\n",
       "    .dataframe thead th {\n",
       "        text-align: right;\n",
       "    }\n",
       "</style>\n",
       "<table border=\"1\" class=\"dataframe\">\n",
       "  <thead>\n",
       "    <tr style=\"text-align: right;\">\n",
       "      <th></th>\n",
       "      <th>isDefective</th>\n",
       "      <th>progLength</th>\n",
       "      <th>vocaCnt</th>\n",
       "      <th>volume</th>\n",
       "      <th>difficultyLv</th>\n",
       "      <th>progLv</th>\n",
       "      <th>effortToImpl</th>\n",
       "      <th>timeToImpl</th>\n",
       "      <th>nloc</th>\n",
       "      <th>minParaCnt</th>\n",
       "      <th>maxParaCnt</th>\n",
       "      <th>avgParaCnt</th>\n",
       "      <th>funCnt</th>\n",
       "      <th>minCyclo</th>\n",
       "      <th>maxCyclo</th>\n",
       "      <th>avgCyclo</th>\n",
       "      <th>expLvOfDev</th>\n",
       "      <th>affectedBoundary</th>\n",
       "      <th>revFreq</th>\n",
       "    </tr>\n",
       "  </thead>\n",
       "  <tbody>\n",
       "    <tr>\n",
       "      <th>444</th>\n",
       "      <td>Y</td>\n",
       "      <td>214</td>\n",
       "      <td>57</td>\n",
       "      <td>1248.238463</td>\n",
       "      <td>14.325581</td>\n",
       "      <td>6.082373</td>\n",
       "      <td>17881.74170</td>\n",
       "      <td>993.430095</td>\n",
       "      <td>48</td>\n",
       "      <td>1</td>\n",
       "      <td>1</td>\n",
       "      <td>1.0</td>\n",
       "      <td>2</td>\n",
       "      <td>1</td>\n",
       "      <td>9</td>\n",
       "      <td>5.000000</td>\n",
       "      <td>22.393443</td>\n",
       "      <td>1</td>\n",
       "      <td>6</td>\n",
       "    </tr>\n",
       "    <tr>\n",
       "      <th>445</th>\n",
       "      <td>N</td>\n",
       "      <td>116</td>\n",
       "      <td>31</td>\n",
       "      <td>574.686772</td>\n",
       "      <td>12.272727</td>\n",
       "      <td>3.815479</td>\n",
       "      <td>7052.97402</td>\n",
       "      <td>391.831890</td>\n",
       "      <td>15</td>\n",
       "      <td>1</td>\n",
       "      <td>1</td>\n",
       "      <td>1.0</td>\n",
       "      <td>0</td>\n",
       "      <td>2</td>\n",
       "      <td>10</td>\n",
       "      <td>5.416667</td>\n",
       "      <td>49.475410</td>\n",
       "      <td>3</td>\n",
       "      <td>35</td>\n",
       "    </tr>\n",
       "  </tbody>\n",
       "</table>\n",
       "</div>"
      ],
      "text/plain": [
       "    isDefective  progLength  vocaCnt       volume  difficultyLv    progLv  \\\n",
       "444           Y         214       57  1248.238463     14.325581  6.082373   \n",
       "445           N         116       31   574.686772     12.272727  3.815479   \n",
       "\n",
       "     effortToImpl  timeToImpl  nloc  minParaCnt  maxParaCnt  avgParaCnt  \\\n",
       "444   17881.74170  993.430095    48           1           1         1.0   \n",
       "445    7052.97402  391.831890    15           1           1         1.0   \n",
       "\n",
       "     funCnt  minCyclo  maxCyclo  avgCyclo  expLvOfDev  affectedBoundary  \\\n",
       "444       2         1         9  5.000000   22.393443                 1   \n",
       "445       0         2        10  5.416667   49.475410                 3   \n",
       "\n",
       "     revFreq  \n",
       "444        6  \n",
       "445       35  "
      ]
     },
     "execution_count": 4,
     "metadata": {},
     "output_type": "execute_result"
    }
   ],
   "source": [
    "df.tail(2)"
   ]
  },
  {
   "cell_type": "code",
   "execution_count": 232,
   "metadata": {},
   "outputs": [],
   "source": [
    "y = df[\"isDefective\"]\n",
    "X = df.drop(\"isDefective\", axis=1)"
   ]
  },
  {
   "cell_type": "code",
   "execution_count": 233,
   "metadata": {},
   "outputs": [],
   "source": [
    "y.replace({\"Y\":1, \"N\":-1}, inplace=True)"
   ]
  },
  {
   "cell_type": "code",
   "execution_count": 234,
   "metadata": {},
   "outputs": [
    {
     "data": {
      "text/plain": [
       "-1    360\n",
       " 1     86\n",
       "Name: isDefective, dtype: int64"
      ]
     },
     "execution_count": 234,
     "metadata": {},
     "output_type": "execute_result"
    }
   ],
   "source": [
    "y.value_counts()"
   ]
  },
  {
   "cell_type": "code",
   "execution_count": 242,
   "metadata": {},
   "outputs": [],
   "source": [
    "from sklearn.model_selection import train_test_split, KFold, cross_val_score"
   ]
  },
  {
   "cell_type": "code",
   "execution_count": 236,
   "metadata": {},
   "outputs": [],
   "source": [
    "train_X, test_X, train_y, test_y = train_test_split(X, y)"
   ]
  },
  {
   "cell_type": "code",
   "execution_count": 237,
   "metadata": {},
   "outputs": [],
   "source": [
    "from sklearn.tree import DecisionTreeClassifier\n",
    "from sklearn.naive_bayes import GaussianNB\n",
    "from sklearn.metrics import *"
   ]
  },
  {
   "cell_type": "code",
   "execution_count": 276,
   "metadata": {},
   "outputs": [],
   "source": [
    "DTC_mdl = DecisionTreeClassifier(max_depth=20, criterion='entropy', random_state=0).fit(train_X, train_y)\n",
    "GNB_mdl = GaussianNB().fit(train_X, train_y)"
   ]
  },
  {
   "cell_type": "code",
   "execution_count": 277,
   "metadata": {},
   "outputs": [],
   "source": [
    "pred_y_DTC = DTC_mdl.predict(test_X)\n",
    "pred_y_GNB = GNB_mdl.predict(test_X)"
   ]
  },
  {
   "cell_type": "code",
   "execution_count": 283,
   "metadata": {},
   "outputs": [],
   "source": [
    "from sklearn.model_selection import ParameterGrid\n",
    "grid = ParameterGrid({\"max_depth\":[3, 5, 8, 15, 20],\n",
    "                     \"min_samples_leaf\":[1, 2, 3, 5 ,10]}) # 총 25개의 파라미터가 포함"
   ]
  },
  {
   "cell_type": "code",
   "execution_count": 291,
   "metadata": {},
   "outputs": [],
   "source": [
    "best_score = 0 # best score를 초기화할때는 score 가 가질 수 있는 최소값보다 작거나 같아야 함\n",
    "\n",
    "for parameter in grid:\n",
    "    model = DecisionTreeClassifier(**parameter).fit(train_X, train_y) # 모델 인스턴스화 작업\n",
    "    pred_y = model.predict(test_X)\n",
    "    score = accuracy_score(test_y, pred_y)\n",
    "    \n",
    "    if score > best_score:\n",
    "        best_score = score\n",
    "        best_parameter = parameter\n",
    "        best_model = model"
   ]
  },
  {
   "cell_type": "code",
   "execution_count": 289,
   "metadata": {},
   "outputs": [
    {
     "data": {
      "text/plain": [
       "(0.9196428571428571,\n",
       " DecisionTreeClassifier(ccp_alpha=0.0, class_weight=None, criterion='gini',\n",
       "                        max_depth=20, max_features=None, max_leaf_nodes=None,\n",
       "                        min_impurity_decrease=0.0, min_impurity_split=None,\n",
       "                        min_samples_leaf=1, min_samples_split=2,\n",
       "                        min_weight_fraction_leaf=0.0, presort='deprecated',\n",
       "                        random_state=None, splitter='best'))"
      ]
     },
     "execution_count": 289,
     "metadata": {},
     "output_type": "execute_result"
    }
   ],
   "source": [
    "best_score, best_model"
   ]
  },
  {
   "cell_type": "code",
   "execution_count": 290,
   "metadata": {
    "scrolled": true
   },
   "outputs": [
    {
     "name": "stdout",
     "output_type": "stream",
     "text": [
      "              precision    recall  f1-score   support\n",
      "\n",
      "          -1       0.98      0.94      0.96        93\n",
      "           1       0.74      0.89      0.81        19\n",
      "\n",
      "    accuracy                           0.93       112\n",
      "   macro avg       0.86      0.92      0.88       112\n",
      "weighted avg       0.94      0.93      0.93       112\n",
      "\n"
     ]
    }
   ],
   "source": [
    "# Decision Tree Classifier\n",
    "print(classification_report(test_y, pred_y_DTC))"
   ]
  },
  {
   "cell_type": "code",
   "execution_count": 281,
   "metadata": {},
   "outputs": [
    {
     "data": {
      "text/plain": [
       "0.9217478152309614"
      ]
     },
     "execution_count": 281,
     "metadata": {},
     "output_type": "execute_result"
    }
   ],
   "source": [
    "cv = KFold(5, shuffle=True, random_state=0)\n",
    "cross_val_score(DTC_mdl, X, y, scoring=\"accuracy\", cv=cv).mean()"
   ]
  },
  {
   "cell_type": "code",
   "execution_count": 297,
   "metadata": {},
   "outputs": [
    {
     "name": "stdout",
     "output_type": "stream",
     "text": [
      "              precision    recall  f1-score   support\n",
      "\n",
      "          -1       0.84      0.91      0.88        93\n",
      "           1       0.27      0.16      0.20        19\n",
      "\n",
      "    accuracy                           0.79       112\n",
      "   macro avg       0.56      0.54      0.54       112\n",
      "weighted avg       0.75      0.79      0.76       112\n",
      "\n"
     ]
    }
   ],
   "source": [
    "print(classification_report(test_y, pred_y_GNB))"
   ]
  },
  {
   "cell_type": "code",
   "execution_count": 298,
   "metadata": {},
   "outputs": [
    {
     "data": {
      "text/html": [
       "<div>\n",
       "<style scoped>\n",
       "    .dataframe tbody tr th:only-of-type {\n",
       "        vertical-align: middle;\n",
       "    }\n",
       "\n",
       "    .dataframe tbody tr th {\n",
       "        vertical-align: top;\n",
       "    }\n",
       "\n",
       "    .dataframe thead th {\n",
       "        text-align: right;\n",
       "    }\n",
       "</style>\n",
       "<table border=\"1\" class=\"dataframe\">\n",
       "  <thead>\n",
       "    <tr style=\"text-align: right;\">\n",
       "      <th></th>\n",
       "      <th>-1</th>\n",
       "      <th>1</th>\n",
       "    </tr>\n",
       "  </thead>\n",
       "  <tbody>\n",
       "    <tr>\n",
       "      <th>87</th>\n",
       "      <td>0.000934</td>\n",
       "      <td>0.999066</td>\n",
       "    </tr>\n",
       "    <tr>\n",
       "      <th>435</th>\n",
       "      <td>0.942051</td>\n",
       "      <td>0.057949</td>\n",
       "    </tr>\n",
       "  </tbody>\n",
       "</table>\n",
       "</div>"
      ],
      "text/plain": [
       "           -1         1\n",
       "87   0.000934  0.999066\n",
       "435  0.942051  0.057949"
      ]
     },
     "execution_count": 298,
     "metadata": {},
     "output_type": "execute_result"
    }
   ],
   "source": [
    "probs = GNB_mdl.predict_proba(test_X)\n",
    "probs_df = pd.DataFrame(probs, columns=model.classes_, index=test_X.index)\n",
    "probs_df.tail(2)"
   ]
  },
  {
   "cell_type": "code",
   "execution_count": 299,
   "metadata": {},
   "outputs": [],
   "source": [
    "cut_off_value = 0.2\n",
    "pred_Y_with_cut_off = 2 * (probs_df.iloc[:, 1] >= cut_off_value) - 1"
   ]
  },
  {
   "cell_type": "code",
   "execution_count": 301,
   "metadata": {
    "scrolled": true
   },
   "outputs": [
    {
     "name": "stdout",
     "output_type": "stream",
     "text": [
      "              precision    recall  f1-score   support\n",
      "\n",
      "          -1       0.92      0.71      0.80        93\n",
      "           1       0.33      0.68      0.44        19\n",
      "\n",
      "    accuracy                           0.71       112\n",
      "   macro avg       0.62      0.70      0.62       112\n",
      "weighted avg       0.82      0.71      0.74       112\n",
      "\n"
     ]
    }
   ],
   "source": [
    "print(classification_report(test_y, pred_Y_with_cut_off))"
   ]
  }
 ],
 "metadata": {
  "kernelspec": {
   "display_name": "Python 3",
   "language": "python",
   "name": "python3"
  },
  "language_info": {
   "codemirror_mode": {
    "name": "ipython",
    "version": 3
   },
   "file_extension": ".py",
   "mimetype": "text/x-python",
   "name": "python",
   "nbconvert_exporter": "python",
   "pygments_lexer": "ipython3",
   "version": "3.7.6"
  }
 },
 "nbformat": 4,
 "nbformat_minor": 4
}
